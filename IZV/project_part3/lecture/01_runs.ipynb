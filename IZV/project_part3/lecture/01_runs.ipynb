{
    "cells": [
        {
            "cell_type": "markdown",
            "metadata": {},
            "source": [
                "# Porovn\u00e1n\u00ed kvality algoritm\u016f\n",
                "M\u011bjme data, kter\u00e1 \u0159\u00edkaj\u00ed, jak dlouho b\u011b\u017eely r\u016fzn\u00e9 konfigurace algoritm\u016f. Na\u0161\u00edm \u00fakolem bude ur\u010dit, kter\u00e1 konfigurace algoritmu byla nejefektivn\u011bj\u0161\u00ed (nejrychlej\u0161\u00ed)"
            ]
        },
        {
            "cell_type": "code",
            "execution_count": null,
            "metadata": {},
            "outputs": [],
            "source": [
                "import pandas as pd\n",
                "import numpy as np\n",
                "import matplotlib.pyplot as plt\n",
                "from IPython.display import display"
            ]
        },
        {
            "cell_type": "markdown",
            "metadata": {},
            "source": [
                "Prvn\u011b na\u010dteme pot\u0159ebn\u00e1 data (um\u011ble vygenerovan\u00e1)"
            ]
        },
        {
            "cell_type": "code",
            "execution_count": null,
            "metadata": {},
            "outputs": [],
            "source": [
                "df = pd.read_csv(\"runs.csv.gz\")\n",
                "df"
            ]
        },
        {
            "cell_type": "markdown",
            "metadata": {},
            "source": [
                "Zkus\u00edme si vykreslit v\u0161echny histogramy do grafu a zkus\u00edme opticky ur\u010dit, kter\u00fd algoritmus je lep\u0161\u00ed."
            ]
        },
        {
            "cell_type": "code",
            "execution_count": null,
            "metadata": {},
            "outputs": [],
            "source": [
                "plt.figure(figsize=(8,8)) ###\n"
            ]
        },
        {
            "cell_type": "markdown",
            "metadata": {},
            "source": [
                "Evidentn\u011b se nejedn\u00e1 o norm\u00e1ln\u00ed rozlo\u017een\u00ed, tak\u017ee nem\u016f\u017eeme pracovat s pr\u016fm\u011bry. Nav\u00edc ka\u017ed\u00e9 rozlo\u017een\u00ed je jin\u00e9 a budeme muset prov\u00e9st statistick\u00fd test. Prvn\u011b si vytvo\u0159\u00edme seznam `confs`, kter\u00fd n\u00e1m bude \u0159\u00edkat unik\u00e1tn\u00ed konfigurace."
            ]
        },
        {
            "cell_type": "code",
            "execution_count": null,
            "metadata": {},
            "outputs": [],
            "source": [
                "confs ###"
            ]
        },
        {
            "cell_type": "markdown",
            "metadata": {},
            "source": [
                "D\u00e1le ur\u010d\u00edme medi\u00e1n \u010das\u016f pro v\u0161echny konfigurace."
            ]
        },
        {
            "cell_type": "code",
            "execution_count": null,
            "metadata": {},
            "outputs": [],
            "source": [
                "df_meds ###"
            ]
        },
        {
            "cell_type": "markdown",
            "metadata": {},
            "source": [
                "D\u00e1le chceme porovnat, zda jsou rozd\u00edly signifikantn\u00ed.\n",
                "\n",
                "Wikipedie:\n",
                " > In statistics, the Mann\u2013Whitney U test is a __nonparametric test__ of the null hypothesis that, for randomly selected values $X$ and $Y$ from two populations, the probability of $X$ being greater than $Y$ is equal to the probability of $Y$ being greater than $X$.\n",
                "\n",
                "Dokumentace [zdroj](https://docs.scipy.org/doc/scipy/reference/generated/scipy.stats.mannwhitneyu.html)\n",
                "> The Mann-Whitney U test is a nonparametric test of the null hypothesis that the distribution underlying sample x is the same as the distribution underlying sample y. It is often used as a test of of difference in location between distributions.\n",
                "> - `mannwhitneyu` is for independent samples. For related / paired samples, consider `scipy.stats.wilcoxon`.\n",
                "> - The Mann-Whitney U test is a non-parametric version of the t-test for independent samples. When the the means of samples from the populations are normally distributed, consider `scipy.stats.ttest_ind`.\n",
                "\n",
                "\n",
                "\n",
                " Jin\u00fdmi slovy:\n",
                " - Jedn\u00e1 se o nep\u00e1rov\u00fd test (tzn. nen\u00ed to o zm\u011bn\u011b jednoho parametru a v\u0161e ostatn\u00ed z\u016fst\u00e1v\u00e1 stejn\u00e9)\n",
                " - nulov\u00e1 hypot\u00e9za je to, \u017ee X a Y jsou p\u0159ibli\u017en\u011b stejn\u00e9 ($ P(X>Y) == P(X < Y ) $ )\n",
                " - tuto hypot\u00e9zu zam\u00edt\u00e1me, pokud je pvalue men\u0161\u00ed ne\u017e na\u0161e stanoven\u00e1 hodnota (0.05)\n",
                " - pokud je pvalue < 0.05, \u0159\u00edk\u00e1me, \u017ee je velk\u00fd rozd\u00edl mezi $X$ a $Y$"
            ]
        },
        {
            "cell_type": "code",
            "execution_count": null,
            "metadata": {},
            "outputs": [],
            "source": [
                "# Na\u010dteme pot\u0159ebnou funkci\n",
                "from scipy.stats import mannwhitneyu ###\n",
                "# a vytvo\u0159\u00edme df2 s multiindexem (bude se n\u00e1m hodit pro rychlej\u0161\u00ed indexov\u00e1n\u00ed)\n",
                "df2 ###"
            ]
        },
        {
            "cell_type": "markdown",
            "metadata": {},
            "source": [
                "Nyn\u00ed si spo\u010d\u00edt\u00e1me porovn\u00e1n\u00ed dvou konfigurac\u00ed (`confC` a `confE`). Porovn\u00e1me medi\u00e1ny (nem\u016f\u017eeme pr\u016fm\u011bry) a spo\u010d\u00edt\u00e1me v\u00fdsledek MW U-testu."
            ]
        },
        {
            "cell_type": "code",
            "execution_count": null,
            "metadata": {},
            "outputs": [],
            "source": []
        },
        {
            "cell_type": "markdown",
            "metadata": {},
            "source": [
                "V\u00fdsledek n\u00e1m \u0159\u00edk\u00e1, \u017ee mno\u017einy `confC` a `confE` jsou podobn\u00e9. P\u0159esto\u017ee je medi\u00e1n hodnot lep\u0161\u00ed pro `confE`, __nem\u016f\u017eeme \u0159\u00edct, \u017ee by tato konfigurace byla lep\u0161\u00ed__.\n",
                "\n",
                "Jak ud\u011blat p\u0159ehledn\u011b v\u0161echny konfigurace? Vytvo\u0159\u00edme si dataframe pro _p-values_ a druh\u00fd pro v\u00fdsledek, zda je medi\u00e1n men\u0161\u00ed \u010di v\u011bt\u0161\u00ed ne\u017e druh\u00fd. To ud\u011bl\u00e1me pro v\u0161echny konfigurace."
            ]
        },
        {
            "cell_type": "code",
            "execution_count": null,
            "metadata": {},
            "outputs": [],
            "source": [
                "allr, allc = [], [] ###\n",
                "df_pvals = pd.DataFrame(allr) ###\n",
                "display(df_pvals) ###\n",
                "df_comps = pd.DataFrame(allc) ###\n",
                "display(df_comps) ###"
            ]
        },
        {
            "cell_type": "markdown",
            "metadata": {},
            "source": [
                "T\u00edm n\u00e1m vznikly dv\u011b tabulky, kde kladn\u00e1 hodnota je tehdy, pokud konfigurace \u0159\u00e1dku je rychlej\u0161\u00ed ne\u017e sloupec. Nyn\u00ed n\u00e1m sta\u010d\u00ed ur\u010dit v\u0161echny konfigurace, kde plat\u00ed __nulov\u00e1 hypot\u00e9za__ jako `NaN`."
            ]
        },
        {
            "cell_type": "code",
            "execution_count": null,
            "metadata": {},
            "outputs": [],
            "source": [
                "df_comps ###"
            ]
        },
        {
            "cell_type": "markdown",
            "metadata": {},
            "source": [
                "# Z\u00e1v\u011br\n",
                "Konfigurace m\u016f\u017eeme se\u0159adit jako:\n",
                "$B <  \\{A, D\\} < \\{C, E\\}$"
            ]
        }
    ],
    "metadata": {
        "kernelspec": {
            "display_name": "Python 3.10.6 64-bit",
            "language": "python",
            "name": "python3"
        },
        "language_info": {
            "codemirror_mode": {
                "name": "ipython",
                "version": 3
            },
            "file_extension": ".py",
            "mimetype": "text/x-python",
            "name": "python",
            "nbconvert_exporter": "python",
            "pygments_lexer": "ipython3",
            "version": "3.10.6"
        },
        "orig_nbformat": 4,
        "vscode": {
            "interpreter": {
                "hash": "767d51c1340bd893661ea55ea3124f6de3c7a262a8b4abca0554b478b1e2ff90"
            }
        }
    },
    "nbformat": 4,
    "nbformat_minor": 2
}