{
 "cells": [
  {
   "cell_type": "markdown",
   "metadata": {},
   "source": [
    "**Následující dvě hypotézy ověříme s 95% jistotou.**"
   ]
  },
  {
   "cell_type": "markdown",
   "metadata": {},
   "source": [
    "### Hypotéza 1:\n",
    "\n",
    "*Na silnicích první třídy se byly nehody s následky na zdraví se stejnou pravděpodobností\n",
    "jako na dálnicích.*\n",
    "\n",
    "K ověření hypotézy využijte 𝜒2 test s tím, že také určíte, jestli nehody na silnicích 1. třídy\n",
    "vedly častěji či méně často k nehodě s následky na zdraví (sloupec p9) než na dálnicích\n",
    "(p36). V tom vám může pomoct “expected” výstup 𝜒2 testu."
   ]
  },
  {
   "cell_type": "code",
   "execution_count": 15,
   "metadata": {},
   "outputs": [
    {
     "name": "stdout",
     "output_type": "stream",
     "text": [
      "p9      1      2\n",
      "p36             \n",
      "0    1247   6674\n",
      "1    7059  14773\n",
      "Výsledek chi-square testu\n",
      "Chi-square statistika: 794.15\n",
      "P_value: 0.0000\n",
      "Degrees of Freedom: 1\n",
      "Očekávané hodnoty:\n",
      "[[ 2211.26696468  5709.73303532]\n",
      " [ 6094.73303532 15737.26696468]]\n",
      "\n",
      "Hypotezu zamitame. Je tu velky rozdil.\n"
     ]
    }
   ],
   "source": [
    "import pandas as pd\n",
    "import numpy as np\n",
    "import matplotlib.pyplot as plt\n",
    "import scipy.stats\n",
    "\n",
    "df = pd.read_pickle('accidents.pkl.gz')\n",
    "\n",
    "df = df[df['p36'].isin([0, 1])]\n",
    "contingency_table = pd.crosstab(df['p36'], df['p9'])\n",
    "\n",
    "#! DEBUG\n",
    "print(contingency_table)\n",
    "\n",
    "#! DEBUG\n",
    "# contingency_table = [[5200, 2800],\n",
    "#                      [14600, 7400]]\n",
    "\n",
    "x2, p_value, DF, expected = scipy.stats.chi2_contingency(contingency_table)\n",
    "\n",
    "print('Výsledek chi-square testu')\n",
    "print(f'Chi-square statistika: {x2:.2f}')\n",
    "print(f'P_value: {p_value:.4f}')\n",
    "print(f'Degrees of Freedom: {DF}')\n",
    "print('Očekávané hodnoty:')\n",
    "print(expected)\n",
    "\n",
    "alpha = 0.05\n",
    "if p_value < alpha:\n",
    "    print('\\nHypotezu zamitame. Je tu velky rozdil.')\n",
    "else:\n",
    "    print('\\nHypotezu NEzamitame. Je to zanedbatelne.')\n"
   ]
  },
  {
   "cell_type": "markdown",
   "metadata": {},
   "source": [
    "### Hypotéza 2:\n",
    "\n",
    "*Škoda při nehodách trolejbusů je nižší, než při nehodách autobusů a tato odchylka je\n",
    "statisticky významná.*\n",
    "\n",
    "Využijte vhodný test, který vyberete na základě distribuce dat, nevyužívejte 𝜒2 test. Určete,\n",
    "zda je škoda na vozidlech vyšší či nižší a zda je tato vlastnost na požadované hladině\n",
    "významnosti."
   ]
  },
  {
   "cell_type": "code",
   "execution_count": 8,
   "metadata": {},
   "outputs": [
    {
     "name": "stdout",
     "output_type": "stream",
     "text": [
      "Number of trolleybus entries: 293\n",
      "Number of bus entries: 4284\n",
      "P-value for trolleybus normality: 0.0000\n",
      "P-value for bus normality: 0.0000\n",
      "\n",
      "T-test Results\n",
      "T-statistic: -5.00\n",
      "P-value: 0.0000\n",
      "\n",
      "Mann-Whitney U Statistic: 467959.50\n",
      "P-value: 0.0000\n",
      "\n",
      "Hypotezu zamitame. Je tu velky rozdil.\n"
     ]
    }
   ],
   "source": [
    "import pandas as pd\n",
    "import numpy as np\n",
    "import matplotlib.pyplot as plt\n",
    "import scipy.stats\n",
    "\n",
    "df_accidents = pd.read_pickle('accidents.pkl.gz')\n",
    "df_vehicles = pd.read_pickle('vehicles.pkl.gz')\n",
    "df = pd.merge(df_accidents, df_vehicles, on='p1', how='inner')\n",
    "\n",
    "#! DEBUG\n",
    "# print(df.columns)\n",
    "\n",
    "# df['p14*100'] skoda v kc\n",
    "# df['p44'] == 11 trolejbus\n",
    "# df['p44'] == 8 autobus\n",
    "trolleybus_damages = df[df['p44'] == 11]['p14*100'].dropna()\n",
    "bus_damages = df[df['p44'] == 8]['p14*100'].dropna()\n",
    "\n",
    "print(f\"Number of trolleybus entries: {len(trolleybus_damages)}\")\n",
    "print(f\"Number of bus entries: {len(bus_damages)}\")\n",
    "\n",
    "# Perform Shapiro-Wilk test for normality\n",
    "_, p_trolley = scipy.stats.shapiro(trolleybus_damages)\n",
    "_, p_bus = scipy.stats.shapiro(bus_damages)\n",
    "print(f\"P-value for trolleybus normality: {p_trolley:.4f}\")\n",
    "print(f\"P-value for bus normality: {p_bus:.4f}\")\n",
    "\n",
    "# Perform t-test\n",
    "t_stat, p_value = scipy.stats.ttest_ind(trolleybus_damages, bus_damages, equal_var=False)  # Welch's t-test\n",
    "print(\"\\nT-test Results\")\n",
    "print(f\"T-statistic: {t_stat:.2f}\")\n",
    "print(f\"P-value: {p_value:.4f}\")\n",
    "\n",
    "# Perform Mann-Whitney U test\n",
    "u_statistic, p_value = scipy.stats.mannwhitneyu(trolleybus_damages, bus_damages, alternative='two-sided')\n",
    "print(f'\\nMann-Whitney U Statistic: {u_statistic:.2f}')\n",
    "print(f'P-value: {p_value:.4f}')\n",
    "\n",
    "alpha = 0.05\n",
    "if p_value < alpha:\n",
    "    print('\\nHypotezu zamitame. Je tu velky rozdil.')\n",
    "else:\n",
    "    print('\\nHypotezu NEzamitame. Je to zanedbatelne.')\n"
   ]
  }
 ],
 "metadata": {
  "kernelspec": {
   "display_name": "Python 3",
   "language": "python",
   "name": "python3"
  },
  "language_info": {
   "codemirror_mode": {
    "name": "ipython",
    "version": 3
   },
   "file_extension": ".py",
   "mimetype": "text/x-python",
   "name": "python",
   "nbconvert_exporter": "python",
   "pygments_lexer": "ipython3",
   "version": "3.12.1"
  }
 },
 "nbformat": 4,
 "nbformat_minor": 2
}
