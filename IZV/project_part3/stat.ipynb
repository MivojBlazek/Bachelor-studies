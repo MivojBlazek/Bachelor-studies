{
 "cells": [
  {
   "cell_type": "markdown",
   "metadata": {},
   "source": [
    "**Následující dvě hypotézy ověříme s 95% jistotou.**"
   ]
  },
  {
   "cell_type": "markdown",
   "metadata": {},
   "source": [
    "### Hypotéza 1:\n",
    "\n",
    "*Na silnicích první třídy se byly nehody s následky na zdraví se stejnou pravděpodobností\n",
    "jako na dálnicích.*\n",
    "\n",
    "K ověření hypotézy využijte 𝜒2 test s tím, že také určíte, jestli nehody na silnicích 1. třídy\n",
    "vedly častěji či méně často k nehodě s následky na zdraví (sloupec p9) než na dálnicích\n",
    "(p36). V tom vám může pomoct “expected” výstup 𝜒2 testu."
   ]
  },
  {
   "cell_type": "markdown",
   "metadata": {},
   "source": [
    "### Hypotéza 2:\n",
    "\n",
    "*Škoda při nehodách trolejbusů je nižší, než při nehodách autobusů a tato odchylka je\n",
    "statisticky významná.*\n",
    "\n",
    "Využijte vhodný test, který vyberete na základě distribuce dat, nevyužívejte 𝜒2 test. Určete,\n",
    "zda je škoda na vozidlech vyšší či nižší a zda je tato vlastnost na požadované hladině\n",
    "významnosti."
   ]
  }
 ],
 "metadata": {
  "language_info": {
   "name": "python"
  }
 },
 "nbformat": 4,
 "nbformat_minor": 2
}
