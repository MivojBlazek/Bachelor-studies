{
 "cells": [
  {
   "attachments": {},
   "cell_type": "markdown",
   "metadata": {},
   "source": [
    "# Test prerekvizitních znalostí Pythonu\n",
    "Na tomto testu si můžete ověřit, zda chápete základní struktury a konstrukce v jazyku Python. Hodnotit se bude nejen funkčnost, ale i efektivita kódu (časová složitost) a míra využití vhodných konstrukcí jazyka.\n",
    "\n",
    "_Odhadovaná doba řešení:_ 15 minut\n",
    "\n",
    "_Odevzdávání:_ tento soubor `test24.ipynb` odevzdejte do IS VUT do úterý 17. září 2024 8:00.\n",
    "\n",
    "_Dotazy:_ fórum ve E-learningu, hodnotit bude V. Mrázek"
   ]
  },
  {
   "cell_type": "code",
   "execution_count": 3,
   "metadata": {
    "tags": []
   },
   "outputs": [
    {
     "name": "stdout",
     "output_type": "stream",
     "text": [
      "3.12.5 (tags/v3.12.5:ff3bc82, Aug  6 2024, 20:45:27) [MSC v.1940 64 bit (AMD64)]\n"
     ]
    }
   ],
   "source": [
    "# test verze jazyka Python\n",
    "import sys, time\n",
    "start=time.time()\n",
    "print(sys.version)\n",
    "# mela by byt Python 3.9 nebo vyssi"
   ]
  },
  {
   "cell_type": "code",
   "execution_count": 4,
   "metadata": {
    "tags": []
   },
   "outputs": [
    {
     "name": "stdout",
     "output_type": "stream",
     "text": [
      "xblaze38\n"
     ]
    }
   ],
   "source": [
    "# TODO: vypište pomocí funkce print váš login\n",
    "print('xblaze38')"
   ]
  },
  {
   "attachments": {},
   "cell_type": "markdown",
   "metadata": {},
   "source": [
    "## Část 1: funkce, generátorová notace\n",
    "\n",
    "- Vytvořte funci `f1` s proměnným počtem __pozičně závislých__ argumentů, která pomocí volání funkce `print()` vypíše všechny argumenty ve formátu\n",
    "```\n",
    "arg1=hodnota1\n",
    "arg2=hodnota2\n",
    "arg3=hodnota3\n",
    "arg4=hodnota4\n",
    "```"
   ]
  },
  {
   "cell_type": "code",
   "execution_count": 5,
   "metadata": {
    "tags": []
   },
   "outputs": [
    {
     "name": "stdout",
     "output_type": "stream",
     "text": [
      "hodnota1\n",
      "hodnota2\n",
      "hodnota3\n",
      "hodnota4\n"
     ]
    }
   ],
   "source": [
    "\n",
    "# Funkce s proměnným počtem argumentů\n",
    "\n",
    "# TODO: definujte funkci f1 \n",
    "def f1(*args):\n",
    "    for arg in args:\n",
    "        print(arg)\n",
    "\n",
    "# následující kód neměňte\n",
    "f1(\"hodnota1\", \"hodnota2\", \"hodnota3\", \"hodnota4\")"
   ]
  },
  {
   "attachments": {},
   "cell_type": "markdown",
   "metadata": {},
   "source": [
    "Vytvořte slovník (`dictionary`), který bude obsahovat položky \"param1\" s hodnotou \"value1\", \"param2\" s hodnotou \"value2\" až po \"param30\" s hodnotou \"value30\". Vynechte ale položku 7, tj. \"param7\". Slovník přiřaďte do `dict_values`.\n",
    "\n",
    "Jelikož se nebudete chtít upsat, využijte generátor `range`, formátovací řetězce `f'...'` a měli byste použít zápis na jeden řádek pomocí tzv _generátorové notace_. K vynechání položky využijte podmínky v generátorové notaci."
   ]
  },
  {
   "cell_type": "code",
   "execution_count": 6,
   "metadata": {},
   "outputs": [
    {
     "data": {
      "text/plain": [
       "{'param1': 'value1',\n",
       " 'param2': 'value2',\n",
       " 'param3': 'value3',\n",
       " 'param4': 'value4',\n",
       " 'param5': 'value5',\n",
       " 'param6': 'value6',\n",
       " 'param8': 'value8',\n",
       " 'param9': 'value9',\n",
       " 'param10': 'value10',\n",
       " 'param11': 'value11',\n",
       " 'param12': 'value12',\n",
       " 'param13': 'value13',\n",
       " 'param14': 'value14',\n",
       " 'param15': 'value15',\n",
       " 'param16': 'value16',\n",
       " 'param17': 'value17',\n",
       " 'param18': 'value18',\n",
       " 'param19': 'value19',\n",
       " 'param20': 'value20',\n",
       " 'param21': 'value21',\n",
       " 'param22': 'value22',\n",
       " 'param23': 'value23',\n",
       " 'param24': 'value24',\n",
       " 'param25': 'value25',\n",
       " 'param26': 'value26',\n",
       " 'param27': 'value27',\n",
       " 'param28': 'value28',\n",
       " 'param29': 'value29',\n",
       " 'param30': 'value30'}"
      ]
     },
     "execution_count": 6,
     "metadata": {},
     "output_type": "execute_result"
    }
   ],
   "source": [
    "# TODO: inicializujte slovník dict_values a zobrazte jeho obsah\n",
    "# pozn: stačí dát identifikátor dict_values samostatně na poslední řádek, Jupyter automaticky vypisuje výsledek posledního řádku na obrazovku\n",
    "\n",
    "dict_values = {f'param{i}': f'value{i}' for i in range(1, 31) if i != 7}\n",
    "\n",
    "\n",
    "# následující kód neměňte, slouží k zobrazení slovníku\n",
    "dict_values"
   ]
  },
  {
   "attachments": {},
   "cell_type": "markdown",
   "metadata": {},
   "source": [
    "## Část 2: Výjimky\n",
    "\n",
    "Vytvořte funkci `f2`, která má dva argumenty `p` a `s`. Argument `s` je ve výchozím stavu nastavený na \"A\". Funkce vrací řetězec složený z p-opakování argumentu `s`. V případě, že `p` je záporné, funkce vyvolá výjimku s popisem \"Hodnota p nemuze byt mensi nez 0, bylo zadano -5\" (podle toho, jaké číslo bylo zadáno). Funkce nesmí nic tisknout pomocí print!"
   ]
  },
  {
   "cell_type": "code",
   "execution_count": 19,
   "metadata": {
    "tags": []
   },
   "outputs": [
    {
     "name": "stdout",
     "output_type": "stream",
     "text": [
      "AAAAAAAAAAAAAAAAAAAAAAAAAAAAAAAAAAAAAAAA\n"
     ]
    }
   ],
   "source": [
    "#TODO: vytvořte funkci f2\n",
    "def f2(p, s = \"A\"):\n",
    "    try:\n",
    "        if p < 0:\n",
    "            raise ValueError(f'Hodnota p nemuze byt mensi nez 0, bylo zadano {p}')\n",
    "        print(s * p)\n",
    "    except ValueError as e:\n",
    "        print(e)\n",
    "            \n",
    "\n",
    "# následující kód neměňte\n",
    "f2(40)"
   ]
  },
  {
   "attachments": {},
   "cell_type": "markdown",
   "metadata": {},
   "source": [
    "Test vyvolání vyjímky - zkusíme nastavit zápornou hodnotu."
   ]
  },
  {
   "cell_type": "code",
   "execution_count": 17,
   "metadata": {},
   "outputs": [
    {
     "name": "stdout",
     "output_type": "stream",
     "text": [
      "Hodnota p nemuze byt mensi nez 0, bylo zadano -40\n"
     ]
    }
   ],
   "source": [
    "# kód neměňte, pouze jej spusťte\n",
    "f2(p=-40, s=\"AB\")"
   ]
  },
  {
   "attachments": {},
   "cell_type": "markdown",
   "metadata": {},
   "source": [
    "Nyní je vaším úkolem ošetřit vyjímku vyvolanou v rámci f2 tak, aby při nastavení záporné hodnoty argumentu `p` se vypsala chybová hlášká, která se převezme z vyjímky (použijte konstrukci `ValueError as e` a vypište i proměnnou `e`)"
   ]
  },
  {
   "cell_type": "code",
   "execution_count": 18,
   "metadata": {
    "tags": []
   },
   "outputs": [
    {
     "name": "stdout",
     "output_type": "stream",
     "text": [
      "Hodnota p nemuze byt mensi nez 0, bylo zadano -4\n"
     ]
    }
   ],
   "source": [
    "#TODO: vytvořte konstrukci pro zachytávání chyby, aby níže uvedené volání negenerovalo výjimku\n",
    "\n",
    "f2(s=\"ABC\", p=-4)"
   ]
  },
  {
   "attachments": {},
   "cell_type": "markdown",
   "metadata": {},
   "source": [
    "## Část 3: Smyčky, pole atd.\n",
    "\n",
    "Vytvoříme data, se kterými budeme pracovat - bude se jednat o seznam obsahující trojice:\n",
    "`(město, typ_hodnoty, teplota)`\n",
    "\n",
    "Chování tohoto kódu byste měli rozumět."
   ]
  },
  {
   "cell_type": "code",
   "execution_count": 21,
   "metadata": {},
   "outputs": [
    {
     "data": {
      "text/plain": [
       "[('Praha', 'T1', 15.577071938315349),\n",
       " ('Praha', 'T2', -8.999569791093322),\n",
       " ('Praha', 'T3', 1.0011727347647703),\n",
       " ('Brno', 'T1', -1.071570474047089),\n",
       " ('Brno', 'T2', 19.458848566560498),\n",
       " ('Brno', 'T3', 17.06797949691645),\n",
       " ('Ostrava', 'T1', 25.687182708193816),\n",
       " ('Ostrava', 'T2', -6.522446694823354),\n",
       " ('Ostrava', 'T3', 6.876872787410818)]"
      ]
     },
     "execution_count": 21,
     "metadata": {},
     "output_type": "execute_result"
    }
   ],
   "source": [
    "# následující kód neměňte, slouží k inicializaci a zobrazení dat\n",
    "import itertools\n",
    "import random\n",
    "random.seed(42)  # pro deterministické chování\n",
    "data = [(m, h, random.random() * 40 - 10)\n",
    "        for m, h in itertools.product([\"Praha\", \"Brno\", \"Ostrava\"], [\"T1\", \"T2\", \"T3\"])]\n",
    "data\n"
   ]
  },
  {
   "attachments": {},
   "cell_type": "markdown",
   "metadata": {},
   "source": [
    "Projděte data tak, abyste na výstup pomocí funkce `print` vypsali:\n",
    "```\n",
    "1. Praha T1 = 15.58\n",
    "2. Praha T2 = -9.00\n",
    "3. Praha T3 = 1.00\n",
    "4. Brno T1 = -1.07\n",
    "5. Brno T2 = 19.46\n",
    "6. Brno T3 = 17.07\n",
    "7. Ostrava T1 = 25.69\n",
    "8. Ostrava T2 = -6.52\n",
    "9. Ostrava T3 = 6.88\n",
    "```\n",
    "\n",
    "Použijte jeden cyklus s tím, že budete plnit proměnné `rid`, `mesto`, `typ` a `hodnota` - použijte funkce `enumerate` a rozbalení  (_upacking_). Hodnotu vypisujte na 2 desetinná místa"
   ]
  },
  {
   "cell_type": "code",
   "execution_count": 27,
   "metadata": {
    "tags": []
   },
   "outputs": [
    {
     "name": "stdout",
     "output_type": "stream",
     "text": [
      "1. Praha T1 = 15.58\n",
      "2. Praha T2 = -9.00\n",
      "3. Praha T3 = 1.00\n",
      "4. Brno T1 = -1.07\n",
      "5. Brno T2 = 19.46\n",
      "6. Brno T3 = 17.07\n",
      "7. Ostrava T1 = 25.69\n",
      "8. Ostrava T2 = -6.52\n",
      "9. Ostrava T3 = 6.88\n"
     ]
    }
   ],
   "source": [
    "#TODO: napiste cyklus\n",
    "for rid, (mesto, typ, hodnota) in enumerate(data, start = 1):\n",
    "    print(f'{rid}. {mesto} {typ} = {hodnota:.2f}')"
   ]
  },
  {
   "attachments": {},
   "cell_type": "markdown",
   "metadata": {},
   "source": [
    "A vypište poslední tři prvky pole (stačí vybrat a využít výchozího tisku)"
   ]
  },
  {
   "cell_type": "code",
   "execution_count": 31,
   "metadata": {
    "tags": []
   },
   "outputs": [
    {
     "name": "stdout",
     "output_type": "stream",
     "text": [
      "('Brno', 'T3', 17.06797949691645)\n",
      "('Brno', 'T2', 19.458848566560498)\n",
      "('Brno', 'T1', -1.071570474047089)\n"
     ]
    }
   ],
   "source": [
    "#TODO: výpis posledních třech prvků pole\n",
    "print(data.pop())\n",
    "print(data.pop())\n",
    "print(data.pop())"
   ]
  },
  {
   "cell_type": "markdown",
   "metadata": {},
   "source": [
    "## Závěr"
   ]
  },
  {
   "attachments": {},
   "cell_type": "markdown",
   "metadata": {},
   "source": [
    "Pozor, nepřidávejte další buňky a neměňte typ buňky z popisu na kód a opačně z důvodu automatické extrakce Vámi napsaných částí kódu. \n",
    "\n",
    "Následující kód spusťte až dokončíte předchozí."
   ]
  },
  {
   "cell_type": "code",
   "execution_count": 32,
   "metadata": {},
   "outputs": [
    {
     "data": {
      "text/plain": [
       "1538.7973783016205"
      ]
     },
     "execution_count": 32,
     "metadata": {},
     "output_type": "execute_result"
    }
   ],
   "source": [
    "#TODO\n",
    "zpetna_vazba = \"\"\"\n",
    "Chcete nám něco říct? Co od předmětu očekáváte a podobně? Můžete použít toto pole!\n",
    "\"\"\"\n",
    "\n",
    "#Doba reseni je orientacni pro nas, abychom meli prehled o narocnosti, neni pouzita pro hodnoceni a neni potreba hodnotu minimalizovat\n",
    "doba_reseni = time.time() - start\n",
    "doba_reseni"
   ]
  }
 ],
 "metadata": {
  "kernelspec": {
   "display_name": "Python 3.10.4 64-bit",
   "language": "python",
   "name": "python3"
  },
  "language_info": {
   "codemirror_mode": {
    "name": "ipython",
    "version": 3
   },
   "file_extension": ".py",
   "mimetype": "text/x-python",
   "name": "python",
   "nbconvert_exporter": "python",
   "pygments_lexer": "ipython3",
   "version": "3.12.5"
  },
  "vscode": {
   "interpreter": {
    "hash": "e7370f93d1d0cde622a1f8e1c04877d8463912d04d973331ad4851f04de6915a"
   }
  }
 },
 "nbformat": 4,
 "nbformat_minor": 2
}
